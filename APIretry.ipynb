import requests, time

def get_with_retry(url, headers, retries=3):
    for i in range(retries):
        response = requests.get(url, headers=headers)
        if response.status_code == 200:
            return response.json()
        time.sleep(2 ** i)  # exponential backoff
    raise Exception(f"API failed after {retries} retries")
